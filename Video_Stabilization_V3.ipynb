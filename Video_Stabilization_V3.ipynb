{
 "cells": [
  {
   "cell_type": "code",
   "execution_count": null,
   "id": "57367cc3",
   "metadata": {},
   "outputs": [],
   "source": [
    "import numpy as np\n",
    "import cv2"
   ]
  },
  {
   "cell_type": "code",
   "execution_count": null,
   "id": "d53d278f",
   "metadata": {},
   "outputs": [],
   "source": [
    "# Specify filepaths here\n",
    "input_path = \"\"\n",
    "output_path = \"\""
   ]
  },
  {
   "cell_type": "code",
   "execution_count": null,
   "id": "f2120973",
   "metadata": {},
   "outputs": [],
   "source": [
    "frames = []\n",
    "\n",
    "# Read input video\n",
    "cap = cv2.VideoCapture(input_path)\n",
    "\n",
    "# Get frame count\n",
    "n_frames = int(cap.get(cv2.CAP_PROP_FRAME_COUNT)) \n",
    "\n",
    "fps = cap.get(cv2.CAP_PROP_FPS)\n",
    " \n",
    "# Get width and height of video stream\n",
    "w = int(cap.get(cv2.CAP_PROP_FRAME_WIDTH))\n",
    "h = int(cap.get(cv2.CAP_PROP_FRAME_HEIGHT))\n",
    " \n",
    "fourcc = cv2.VideoWriter_fourcc(*'MJPG')\n",
    " \n",
    "out = cv2.VideoWriter(output_path, fourcc, fps, w, h)"
   ]
  },
  {
   "cell_type": "code",
   "execution_count": null,
   "id": "d43a5ec7",
   "metadata": {},
   "outputs": [],
   "source": [
    "# Read first frame\n",
    "_, prev = cap.read()\n",
    " \n",
    "# Convert frame to grayscale\n",
    "prev_gray = cv2.cvtColor(prev, cv2.COLOR_BGR2GRAY)\n",
    "\n",
    "mask = np.zeros_like(prev)"
   ]
  },
  {
   "cell_type": "code",
   "execution_count": null,
   "id": "1bd079c7",
   "metadata": {},
   "outputs": [],
   "source": [
    "# Pre-define transformation-store array\n",
    "transforms = np.zeros((n_frames-1, 3), np.float32) \n",
    "\n",
    "prev_pts = cv2.goodFeaturesToTrack(prev_gray,\n",
    "                                     maxCorners=200,\n",
    "                                     qualityLevel=0.01,\n",
    "                                     minDistance=30,\n",
    "                                     blockSize=3)"
   ]
  },
  {
   "cell_type": "code",
   "execution_count": null,
   "id": "00c4941a",
   "metadata": {},
   "outputs": [],
   "source": [
    "OF_points_old = []\n",
    "OF_points_new = []\n",
    "for i in range(n_frames-2):\n",
    "    \n",
    "    success, curr = cap.read()\n",
    "    \n",
    "    if not success: \n",
    "        break \n",
    "        \n",
    "    # Converting from BGR to grayscale\n",
    "    curr_gray = cv2.cvtColor(curr, cv2.COLOR_BGR2GRAY)\n",
    "    \n",
    "    curr_pts, status, err = cv2.calcOpticalFlowPyrLK(prev_gray, curr_gray, prev_pts, None) \n",
    "\n",
    "    # Sanity check\n",
    "    assert prev_pts.shape == curr_pts.shape \n",
    "\n",
    "    # Filter only valid points\n",
    "    idx = np.where(status==1)[0]\n",
    "    good_old = prev_pts[idx]\n",
    "    good_new = curr_pts[idx]\n",
    "   \n",
    "    # Find transformation matrix\n",
    "    m = cv2. estimateAffine2D(good_old, good_new)\n",
    "\n",
    "    OF_points_old.append(good_old)\n",
    "    OF_points_new.append(good_new)\n",
    "  \n",
    "    # Extract traslations on x and y axes\n",
    "    dx = m[0][0][0]\n",
    "    dy = m[0][1][0]\n",
    " \n",
    "    # Extract rotation angle\n",
    "    dangle = np.arctan2(m[0][1][0], m[0][0][0])\n",
    " \n",
    "    # Store transformation\n",
    "    transforms[i] = [dx, dy, dangle]\n",
    "\n",
    "    for i, (new, old) in enumerate(zip(good_new, good_old)):\n",
    "        a, b = new.ravel()\n",
    "        c, d = old.ravel()\n",
    "        \n",
    "        mask = cv2.line(mask, (int(a), int(b)), (int(c), int(d)), (0, 0, 255), 1)\n",
    "        curr = cv2.circle(curr, (int(a), int(b)), 5, (0, 0, 255), -1)\n",
    "\n",
    "\n",
    "    img = cv2.add(curr,mask)\n",
    "    frames.append(img)\n",
    "\n",
    "    # Now update  previous frame and previous points\n",
    "    prev_pts = good_new.reshape(-1, 1, 2)\n",
    "    prev_gray = curr_gray.copy()\n",
    "\n",
    "    print(\"Frame: \" + str(i) +  \"/\" + str(n_frames) + \" -  Tracked points : \" + str(len(prev_pts)))\n",
    "    out.write(img)\n",
    "    \n",
    "# Release video\n",
    "cap.release()\n",
    "out.release()\n",
    "\n",
    "# Close windows\n",
    "cv2.destroyAllWindows()"
   ]
  }
 ],
 "metadata": {
  "kernelspec": {
   "display_name": "Python 3 (ipykernel)",
   "language": "python",
   "name": "python3"
  },
  "language_info": {
   "codemirror_mode": {
    "name": "ipython",
    "version": 3
   },
   "file_extension": ".py",
   "mimetype": "text/x-python",
   "name": "python",
   "nbconvert_exporter": "python",
   "pygments_lexer": "ipython3",
   "version": "3.10.12"
  }
 },
 "nbformat": 4,
 "nbformat_minor": 5
}
