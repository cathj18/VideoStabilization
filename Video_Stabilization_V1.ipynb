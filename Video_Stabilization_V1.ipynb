{
 "cells": [
  {
   "cell_type": "code",
   "execution_count": null,
   "id": "57f9c099",
   "metadata": {},
   "outputs": [],
   "source": [
    "from vidstab import VidStab"
   ]
  },
  {
   "cell_type": "code",
   "execution_count": null,
   "id": "96427f30",
   "metadata": {},
   "outputs": [],
   "source": [
    "# path = \"/Users/cj318126/Library/Mobile Documents/F6266T9T75~com~apple~iMovie/Documents/test.mp4\"\n",
    "path = \"./Downloads/339SD_O__S1_2.mp4\""
   ]
  },
  {
   "cell_type": "code",
   "execution_count": null,
   "id": "be205172",
   "metadata": {},
   "outputs": [],
   "source": [
    "# Using defaults\n",
    "stabilizer = VidStab()\n",
    "stabilizer.stabilize(input_path=path, output_path='stable_video_339SD_O__S1_2.mp4')"
   ]
  },
  {
   "cell_type": "code",
   "execution_count": null,
   "id": "1a8a13a4",
   "metadata": {},
   "outputs": [],
   "source": [
    "import matplotlib.pyplot as plt\n",
    "stabilizer.gen_transforms(input_path=path)\n",
    "stabilizer.plot_trajectory()\n",
    "plt.show()"
   ]
  }
 ],
 "metadata": {
  "kernelspec": {
   "display_name": "Python 3 (ipykernel)",
   "language": "python",
   "name": "python3"
  },
  "language_info": {
   "codemirror_mode": {
    "name": "ipython",
    "version": 3
   },
   "file_extension": ".py",
   "mimetype": "text/x-python",
   "name": "python",
   "nbconvert_exporter": "python",
   "pygments_lexer": "ipython3",
   "version": "3.10.12"
  }
 },
 "nbformat": 4,
 "nbformat_minor": 5
}
