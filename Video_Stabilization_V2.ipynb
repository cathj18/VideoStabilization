{
 "cells": [
  {
   "cell_type": "code",
   "execution_count": null,
   "id": "dd13f14f",
   "metadata": {},
   "outputs": [],
   "source": [
    "import numpy as np\n",
    "import cv2\n",
    "import matplotlib.pyplot as plt"
   ]
  },
  {
   "cell_type": "code",
   "execution_count": null,
   "id": "0ddbda03",
   "metadata": {},
   "outputs": [],
   "source": [
    "# Based on http://nghiaho.com/uploads/code/videostab.cpp\n",
    "\n",
    "# The larger this value, the more stable the video but less reactive to sudden panning; in frames:\n",
    "WINDOW_SIZE = 400\n",
    "# 3 values for dx, dy, dangle\n",
    "N_MEASURES = 3"
   ]
  },
  {
   "cell_type": "code",
   "execution_count": null,
   "id": "124600ca",
   "metadata": {},
   "outputs": [],
   "source": [
    "def box_filter_convolve(y, window_size):\n",
    "    # [n_frames, ]\n",
    "    box_filter = np.ones(window_size)/window_size\n",
    "    y_pad = np.lib.pad(y, (window_size, window_size), 'edge')\n",
    "    y_smooth = np.convolve(y_pad, box_filter, mode='same')\n",
    "    y_smooth = y_smooth[window_size:-window_size]\n",
    "    assert y.shape == y_smooth.shape, print(y.shape, y_smooth.shape)\n",
    "    return y_smooth"
   ]
  },
  {
   "cell_type": "code",
   "execution_count": null,
   "id": "5a10024b",
   "metadata": {},
   "outputs": [],
   "source": [
    "def before_after(trajectory, smoothed_trajectory):\n",
    "    x = range(trajectory.shape[0])\n",
    "\n",
    "    y1 = trajectory[:,0]\n",
    "    y2 = smoothed_trajectory[:,0]\n",
    "    plt.figure(figsize=(10, 5))\n",
    "    plt.plot(x, y1, 'r')\n",
    "    plt.plot(x, y2, 'b')\n",
    "\n",
    "    y1 = trajectory[:,1]\n",
    "    y2 = smoothed_trajectory[:,1]\n",
    "    plt.figure(figsize=(10, 5))\n",
    "    plt.plot(x, y1, 'r')\n",
    "    plt.plot(x, y2, 'b')"
   ]
  },
  {
   "cell_type": "code",
   "execution_count": null,
   "id": "3098257f",
   "metadata": {},
   "outputs": [],
   "source": [
    "def stabilize(in_path, out_path):\n",
    "    cap = cv2.VideoCapture(in_path)\n",
    "\n",
    "    n_frames = int(cap.get(cv2.CAP_PROP_FRAME_COUNT))\n",
    "    fps = int(cap.get(cv2.CAP_PROP_FPS))\n",
    "    w = int(cap.get(cv2.CAP_PROP_FRAME_WIDTH))\n",
    "    h = int(cap.get(cv2.CAP_PROP_FRAME_HEIGHT))\n",
    "\n",
    "    # Define the codec and create VideoWriter object\n",
    "    fourcc = cv2.VideoWriter_fourcc(*'MJPG') # If error occurs, test other combos of fourcc and out_path extension\n",
    "    out = cv2.VideoWriter(out_path, fourcc, fps, (w, h))\n",
    "\n",
    "    frame_transforms = np.zeros((n_frames-1, N_MEASURES), np.float32)\n",
    "    _, prev = cap.read()\n",
    "    prev_gray = cv2.cvtColor(prev, cv2.COLOR_BGR2GRAY)\n",
    "    for i in range(n_frames-2):\n",
    "        prev_pts = cv2.goodFeaturesToTrack(prev_gray,\n",
    "                                           maxCorners=200,\n",
    "                                           qualityLevel=0.01,\n",
    "                                           minDistance=30,\n",
    "                                           blockSize=3)\n",
    "\n",
    "        _, curr = cap.read()\n",
    "        curr_gray = cv2.cvtColor(curr, cv2.COLOR_BGR2GRAY)\n",
    "\n",
    "        # Default settings\n",
    "        curr_pts, status, err = cv2.calcOpticalFlowPyrLK(prev_gray, curr_gray, prev_pts, None)\n",
    "\n",
    "        assert prev_pts.shape == curr_pts.shape\n",
    "\n",
    "        # Take only valid points\n",
    "        id_ = np.where(status==1)[0]\n",
    "        _prev_pts = prev_pts[id_]\n",
    "        _curr_pts = curr_pts[id_]\n",
    "\n",
    "        m = cv2.estimateAffinePartial2D(_prev_pts, _curr_pts)[0]\n",
    "\n",
    "        dx = m[0,2]\n",
    "        dy = m[1,2]\n",
    "        dangle = np.arctan2(m[1,0], m[0,0])\n",
    "\n",
    "        frame_transforms[i] = [dx,dy,dangle]\n",
    "\n",
    "        prev_gray = curr_gray\n",
    "\n",
    "    trajectory = np.cumsum(frame_transforms, axis=0)\n",
    "\n",
    "    smoothed_trajectory = np.copy(trajectory)\n",
    "    for i in range(N_MEASURES):\n",
    "        smoothed_trajectory[:,i] = box_filter_convolve(trajectory[:,i], window_size=WINDOW_SIZE)\n",
    "\n",
    "    diff = smoothed_trajectory - trajectory\n",
    "    frame_transforms_fixed = frame_transforms + diff\n",
    "\n",
    "    cap.set(cv2.CAP_PROP_POS_FRAMES, 0) # Write original version of first frame\n",
    "    \n",
    "    _, frame = cap.read()\n",
    "    out.write(frame)\n",
    "    \n",
    "    # Write transformed n_frames-1:\n",
    "    for i in range(n_frames-2):\n",
    "        _, frame = cap.read()\n",
    "        \n",
    "        dx = frame_transforms_fixed[i,0]\n",
    "        dy = frame_transforms_fixed[i,1]\n",
    "        dangle = frame_transforms_fixed[i,2]\n",
    "\n",
    "        m = np.zeros((2,3), np.float32)\n",
    "        m[0,0] = np.cos(dangle)\n",
    "        m[0,1] = -np.sin(dangle)\n",
    "        m[1,0] = np.sin(dangle)\n",
    "        m[1,1] = np.cos(dangle)\n",
    "        m[0,2] = dx\n",
    "        m[1,2] = dy\n",
    "        \n",
    "        frame_tr = cv2.warpAffine(frame, m, (w,h))\n",
    "        out.write(frame_tr)\n",
    "\n",
    "    out.release()\n",
    "    cap.release()\n",
    "    before_after(trajectory, smoothed_trajectory)"
   ]
  },
  {
   "cell_type": "code",
   "execution_count": null,
   "id": "35f743ac",
   "metadata": {},
   "outputs": [],
   "source": [
    "# Specify filepaths here\n",
    "input_path = \"\"\n",
    "output_path = \"\""
   ]
  },
  {
   "cell_type": "code",
   "execution_count": null,
   "id": "fb689b41",
   "metadata": {
    "scrolled": false
   },
   "outputs": [],
   "source": [
    "stabilize_video(input_path, output_path)"
   ]
  }
 ],
 "metadata": {
  "kernelspec": {
   "display_name": "Python 3 (ipykernel)",
   "language": "python",
   "name": "python3"
  },
  "language_info": {
   "codemirror_mode": {
    "name": "ipython",
    "version": 3
   },
   "file_extension": ".py",
   "mimetype": "text/x-python",
   "name": "python",
   "nbconvert_exporter": "python",
   "pygments_lexer": "ipython3",
   "version": "3.10.12"
  }
 },
 "nbformat": 4,
 "nbformat_minor": 5
}
